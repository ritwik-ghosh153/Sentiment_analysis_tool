{
 "cells": [
  {
   "cell_type": "code",
   "execution_count": 1,
   "metadata": {
    "id": "bSz2oikpWwuz"
   },
   "outputs": [],
   "source": [
    "# This Python 3 environment comes with many helpful analytics libraries installed\n",
    "# It is defined by the kaggle/python Docker image: https://github.com/kaggle/docker-python\n",
    "# For example, here's several helpful packages to load\n",
    "\n",
    "import numpy as np # linear algebra\n",
    "import pandas as pd # data processing, CSV file I/O (e.g. pd.read_csv)\n",
    "import re\n",
    "import nltk # For StopWords\n",
    "from nltk.corpus import stopwords # For Stopwords\n",
    "from nltk.stem.porter import PorterStemmer # For stemming words\n",
    "from sklearn.feature_extraction.text import CountVectorizer # For Vectorizing words\n",
    "from sklearn.model_selection import train_test_split # For test train split\n",
    "from sklearn.naive_bayes import GaussianNB\n",
    "from sklearn.naive_bayes import MultinomialNB\n",
    "from sklearn.naive_bayes import BernoulliNB\n",
    "from sklearn.metrics import accuracy_score\n",
    "\n",
    "# Input data files are available in the read-only \"../input/\" directory\n",
    "# For example, running this (by clicking run or pressing Shift+Enter) will list all files under the input directory\n",
    "\n",
    "import os\n",
    "for dirname, _, filenames in os.walk('/kaggle/input'):\n",
    "    for filename in filenames:\n",
    "        print(os.path.join(dirname, filename))\n",
    "\n",
    "# You can write up to 5GB to the current directory (/kaggle/working/) that gets preserved as output when you create a version using \"Save & Run All\" \n",
    "# You can also write temporary files to /kaggle/temp/, but they won't be saved outside of the current session"
   ]
  },
  {
   "cell_type": "code",
   "execution_count": 3,
   "metadata": {
    "colab": {
     "base_uri": "https://localhost:8080/",
     "height": 204
    },
    "id": "YJdePNE6YIk4",
    "outputId": "c4690da1-9f0b-4260-980e-f8cdb12738a3"
   },
   "outputs": [
    {
     "data": {
      "text/html": [
       "<div>\n",
       "<style scoped>\n",
       "    .dataframe tbody tr th:only-of-type {\n",
       "        vertical-align: middle;\n",
       "    }\n",
       "\n",
       "    .dataframe tbody tr th {\n",
       "        vertical-align: top;\n",
       "    }\n",
       "\n",
       "    .dataframe thead th {\n",
       "        text-align: right;\n",
       "    }\n",
       "</style>\n",
       "<table border=\"1\" class=\"dataframe\">\n",
       "  <thead>\n",
       "    <tr style=\"text-align: right;\">\n",
       "      <th></th>\n",
       "      <th>review</th>\n",
       "      <th>sentiment</th>\n",
       "    </tr>\n",
       "  </thead>\n",
       "  <tbody>\n",
       "    <tr>\n",
       "      <th>0</th>\n",
       "      <td>One of the other reviewers has mentioned that ...</td>\n",
       "      <td>positive</td>\n",
       "    </tr>\n",
       "    <tr>\n",
       "      <th>1</th>\n",
       "      <td>A wonderful little production. &lt;br /&gt;&lt;br /&gt;The...</td>\n",
       "      <td>positive</td>\n",
       "    </tr>\n",
       "    <tr>\n",
       "      <th>2</th>\n",
       "      <td>I thought this was a wonderful way to spend ti...</td>\n",
       "      <td>positive</td>\n",
       "    </tr>\n",
       "    <tr>\n",
       "      <th>3</th>\n",
       "      <td>Basically there's a family where a little boy ...</td>\n",
       "      <td>negative</td>\n",
       "    </tr>\n",
       "    <tr>\n",
       "      <th>4</th>\n",
       "      <td>Petter Mattei's \"Love in the Time of Money\" is...</td>\n",
       "      <td>positive</td>\n",
       "    </tr>\n",
       "  </tbody>\n",
       "</table>\n",
       "</div>"
      ],
      "text/plain": [
       "                                              review sentiment\n",
       "0  One of the other reviewers has mentioned that ...  positive\n",
       "1  A wonderful little production. <br /><br />The...  positive\n",
       "2  I thought this was a wonderful way to spend ti...  positive\n",
       "3  Basically there's a family where a little boy ...  negative\n",
       "4  Petter Mattei's \"Love in the Time of Money\" is...  positive"
      ]
     },
     "execution_count": 3,
     "metadata": {},
     "output_type": "execute_result"
    }
   ],
   "source": [
    "data = pd.read_csv(\"Dataset/IMDB Dataset.csv\")\n",
    "data.head()"
   ]
  },
  {
   "cell_type": "code",
   "execution_count": 4,
   "metadata": {
    "colab": {
     "base_uri": "https://localhost:8080/"
    },
    "id": "MB1mdQa5eHiT",
    "outputId": "5787d0f1-cceb-4ed6-ec75-612e76a2ef54"
   },
   "outputs": [
    {
     "data": {
      "text/plain": [
       "(50000, 2)"
      ]
     },
     "execution_count": 4,
     "metadata": {},
     "output_type": "execute_result"
    }
   ],
   "source": [
    "data.shape"
   ]
  },
  {
   "cell_type": "code",
   "execution_count": 5,
   "metadata": {
    "colab": {
     "base_uri": "https://localhost:8080/"
    },
    "id": "Wkul0Kh_fGeE",
    "outputId": "a0005eb6-e649-4760-dbe5-cca4e40b56e3"
   },
   "outputs": [
    {
     "data": {
      "text/plain": [
       "(50000, 3)"
      ]
     },
     "execution_count": 5,
     "metadata": {},
     "output_type": "execute_result"
    }
   ],
   "source": [
    "data = data.sample(50000).reset_index()\n",
    "data.shape"
   ]
  },
  {
   "cell_type": "code",
   "execution_count": 6,
   "metadata": {
    "colab": {
     "base_uri": "https://localhost:8080/",
     "height": 191
    },
    "id": "Fr7fv38mfJui",
    "outputId": "3f23e8e5-83d5-48be-a2af-ec5d2fd7684e"
   },
   "outputs": [
    {
     "data": {
      "text/plain": [
       "\"I saw this movie on VHS some time ago (27 Jan 2003), just because of the name of Paul Rudd on the cover. I liked his performance in `The Object of My Affection' very much and I really expected a good work. However, I found this film a complete mess. The story has a very confused screenplay and the characters are not well developed. Further, the low-budget special effects do not help much. I do not know the previous generation of Gen-Y Cops, but this next generation is not good. I do not recall exactly why I gave this grade (and I do not intent to see this movie again), but my vote is four.<br /><br />Title (Brazil) : `Gen-Y Cops A Nova Geração' (`Gen-Y Cops The Next Generation')\""
      ]
     },
     "execution_count": 6,
     "metadata": {},
     "output_type": "execute_result"
    }
   ],
   "source": [
    "data['review'][0]"
   ]
  },
  {
   "cell_type": "code",
   "execution_count": 7,
   "metadata": {
    "colab": {
     "base_uri": "https://localhost:8080/",
     "height": 204
    },
    "id": "j5kXzEnpfOQS",
    "outputId": "f9556361-3069-4da3-dfa1-28a6533faf37"
   },
   "outputs": [
    {
     "data": {
      "text/html": [
       "<div>\n",
       "<style scoped>\n",
       "    .dataframe tbody tr th:only-of-type {\n",
       "        vertical-align: middle;\n",
       "    }\n",
       "\n",
       "    .dataframe tbody tr th {\n",
       "        vertical-align: top;\n",
       "    }\n",
       "\n",
       "    .dataframe thead th {\n",
       "        text-align: right;\n",
       "    }\n",
       "</style>\n",
       "<table border=\"1\" class=\"dataframe\">\n",
       "  <thead>\n",
       "    <tr style=\"text-align: right;\">\n",
       "      <th></th>\n",
       "      <th>index</th>\n",
       "      <th>review</th>\n",
       "      <th>sentiment</th>\n",
       "    </tr>\n",
       "  </thead>\n",
       "  <tbody>\n",
       "    <tr>\n",
       "      <th>0</th>\n",
       "      <td>12482</td>\n",
       "      <td>I saw this movie on VHS some time ago (27 Jan ...</td>\n",
       "      <td>0</td>\n",
       "    </tr>\n",
       "    <tr>\n",
       "      <th>1</th>\n",
       "      <td>9923</td>\n",
       "      <td>Since I am required to write minimum of 10 lin...</td>\n",
       "      <td>0</td>\n",
       "    </tr>\n",
       "    <tr>\n",
       "      <th>2</th>\n",
       "      <td>12991</td>\n",
       "      <td>I was one of many that expected to see a glori...</td>\n",
       "      <td>1</td>\n",
       "    </tr>\n",
       "    <tr>\n",
       "      <th>3</th>\n",
       "      <td>23199</td>\n",
       "      <td>American icon Henry Fonda portrays \"Elegant\" J...</td>\n",
       "      <td>1</td>\n",
       "    </tr>\n",
       "    <tr>\n",
       "      <th>4</th>\n",
       "      <td>38069</td>\n",
       "      <td>This is one very confusing movie. The film is ...</td>\n",
       "      <td>0</td>\n",
       "    </tr>\n",
       "  </tbody>\n",
       "</table>\n",
       "</div>"
      ],
      "text/plain": [
       "   index                                             review  sentiment\n",
       "0  12482  I saw this movie on VHS some time ago (27 Jan ...          0\n",
       "1   9923  Since I am required to write minimum of 10 lin...          0\n",
       "2  12991  I was one of many that expected to see a glori...          1\n",
       "3  23199  American icon Henry Fonda portrays \"Elegant\" J...          1\n",
       "4  38069  This is one very confusing movie. The film is ...          0"
      ]
     },
     "execution_count": 7,
     "metadata": {},
     "output_type": "execute_result"
    }
   ],
   "source": [
    "data['sentiment'].replace({'positive': 1, 'negative': 0}, inplace=True)\n",
    "data.head()"
   ]
  },
  {
   "cell_type": "code",
   "execution_count": 8,
   "metadata": {
    "colab": {
     "base_uri": "https://localhost:8080/",
     "height": 139
    },
    "id": "pAcXEVCPfTMa",
    "outputId": "33074cae-200f-474e-8644-edd2a877f13c"
   },
   "outputs": [
    {
     "data": {
      "text/plain": [
       "\"I was one of many that expected to see a glorified, Yankee-doodle dandy portrayal of a day that (as famously quoted) should live in infamy, rather than glory. How wrong I was. These guys were there, right in the middle of it, and the pictures they returned are both amazing and heartbreaking. And yet it all occurred on a chance trip to the world trade centre on September 11, 2001.<br /><br />Two French filmmakers were compiling a documentary about life as a NY firefighter, particularly from the perspective of a young rookie coming up through the ranks. At the beginning we see much of this footage, just to remind us that there was no thought to producing a film about terrorism. This was intended to be a film about regular people earning an honest living helping others, and the beauty of the film is that it never loses this edge.<br /><br />While investigating a suspect gas line (I think, my memory's a little hazy on that), we suddenly hear a plane fly overhead. The camera pans up to reveal a commercial jet torpedoing itself into one of the towers. What must the cameraman have been thinking at this time? Recognising the importance of the footage the camera stays on, and possibly realizing the same thing, the FDNY allow the camera to follow them into the building.<br /><br />What follows is a true view from the front-lines. We see the commitment of the FDNY, their reactions (the stunned silence after hearing the first person fall to their death is chilling) as well as the collapse of the one of the buildings from the inside, while a second camera captures the events from the outside.<br /><br />If it wasn't for the horrific event they were covering, the footage alone would be any young doco-maker's dream come true. Quite simply, the footage deserves to be preserved for all time. But what really sets this film apart is the genuine humanity that it brings to the viewer. We see firefighters charging in without hesitation, people of different races helping one another escape to wave of rubble and even the concern of the filmmakers for one another (they are brothers) as they cannot reach one another in the confusion. There are amazing sights as well as amazing human stories in this film, something Hollywood could never duplicate (even though it's trying).<br /><br />9/11 isn't a film about politics. Nor is it a film about religion, nationality or even jihad for that matter. 9/11 is a film about people, and a true indication of the best and worst that we are capable of. 9/11 is quite simply one of the most important films I've ever seen, and would be the only film to be born from this event if it were up to me. You can't duplicate this.\""
      ]
     },
     "execution_count": 8,
     "metadata": {},
     "output_type": "execute_result"
    }
   ],
   "source": [
    "data.iloc[2].review"
   ]
  },
  {
   "cell_type": "code",
   "execution_count": 9,
   "metadata": {
    "colab": {
     "base_uri": "https://localhost:8080/",
     "height": 139
    },
    "id": "inffNwfofWq1",
    "outputId": "47988bfe-9361-4f8d-a7e4-0a20580f3ba0"
   },
   "outputs": [
    {
     "data": {
      "text/plain": [
       "\"I was one of many that expected to see a glorified, Yankee-doodle dandy portrayal of a day that (as famously quoted) should live in infamy, rather than glory. How wrong I was. These guys were there, right in the middle of it, and the pictures they returned are both amazing and heartbreaking. And yet it all occurred on a chance trip to the world trade centre on September 11, 2001.Two French filmmakers were compiling a documentary about life as a NY firefighter, particularly from the perspective of a young rookie coming up through the ranks. At the beginning we see much of this footage, just to remind us that there was no thought to producing a film about terrorism. This was intended to be a film about regular people earning an honest living helping others, and the beauty of the film is that it never loses this edge.While investigating a suspect gas line (I think, my memory's a little hazy on that), we suddenly hear a plane fly overhead. The camera pans up to reveal a commercial jet torpedoing itself into one of the towers. What must the cameraman have been thinking at this time? Recognising the importance of the footage the camera stays on, and possibly realizing the same thing, the FDNY allow the camera to follow them into the building.What follows is a true view from the front-lines. We see the commitment of the FDNY, their reactions (the stunned silence after hearing the first person fall to their death is chilling) as well as the collapse of the one of the buildings from the inside, while a second camera captures the events from the outside.If it wasn't for the horrific event they were covering, the footage alone would be any young doco-maker's dream come true. Quite simply, the footage deserves to be preserved for all time. But what really sets this film apart is the genuine humanity that it brings to the viewer. We see firefighters charging in without hesitation, people of different races helping one another escape to wave of rubble and even the concern of the filmmakers for one another (they are brothers) as they cannot reach one another in the confusion. There are amazing sights as well as amazing human stories in this film, something Hollywood could never duplicate (even though it's trying).9/11 isn't a film about politics. Nor is it a film about religion, nationality or even jihad for that matter. 9/11 is a film about people, and a true indication of the best and worst that we are capable of. 9/11 is quite simply one of the most important films I've ever seen, and would be the only film to be born from this event if it were up to me. You can't duplicate this.\""
      ]
     },
     "execution_count": 9,
     "metadata": {},
     "output_type": "execute_result"
    }
   ],
   "source": [
    "# Removing all HTML Tags\n",
    "clean = re.compile('<.*?>')\n",
    "re.sub(clean, '', data.iloc[2]. review)"
   ]
  },
  {
   "cell_type": "code",
   "execution_count": 10,
   "metadata": {
    "id": "wLQC_bOZfZnQ"
   },
   "outputs": [],
   "source": [
    "# Function to clean HTML Tags:\n",
    "def clean_html(text):\n",
    "    clean = re.compile('<.*?>')\n",
    "    return re.sub(clean, '', text)"
   ]
  },
  {
   "cell_type": "code",
   "execution_count": 11,
   "metadata": {
    "id": "78aWnqrnfeRX"
   },
   "outputs": [],
   "source": [
    "data['review'] = data['review'].apply(clean_html)"
   ]
  },
  {
   "cell_type": "code",
   "execution_count": 12,
   "metadata": {
    "colab": {
     "base_uri": "https://localhost:8080/",
     "height": 139
    },
    "id": "ZCpP9Wu9fgkv",
    "outputId": "d433b6a4-4cdd-4b09-c9c2-a5724c84dc44"
   },
   "outputs": [
    {
     "data": {
      "text/plain": [
       "\"I was one of many that expected to see a glorified, Yankee-doodle dandy portrayal of a day that (as famously quoted) should live in infamy, rather than glory. How wrong I was. These guys were there, right in the middle of it, and the pictures they returned are both amazing and heartbreaking. And yet it all occurred on a chance trip to the world trade centre on September 11, 2001.Two French filmmakers were compiling a documentary about life as a NY firefighter, particularly from the perspective of a young rookie coming up through the ranks. At the beginning we see much of this footage, just to remind us that there was no thought to producing a film about terrorism. This was intended to be a film about regular people earning an honest living helping others, and the beauty of the film is that it never loses this edge.While investigating a suspect gas line (I think, my memory's a little hazy on that), we suddenly hear a plane fly overhead. The camera pans up to reveal a commercial jet torpedoing itself into one of the towers. What must the cameraman have been thinking at this time? Recognising the importance of the footage the camera stays on, and possibly realizing the same thing, the FDNY allow the camera to follow them into the building.What follows is a true view from the front-lines. We see the commitment of the FDNY, their reactions (the stunned silence after hearing the first person fall to their death is chilling) as well as the collapse of the one of the buildings from the inside, while a second camera captures the events from the outside.If it wasn't for the horrific event they were covering, the footage alone would be any young doco-maker's dream come true. Quite simply, the footage deserves to be preserved for all time. But what really sets this film apart is the genuine humanity that it brings to the viewer. We see firefighters charging in without hesitation, people of different races helping one another escape to wave of rubble and even the concern of the filmmakers for one another (they are brothers) as they cannot reach one another in the confusion. There are amazing sights as well as amazing human stories in this film, something Hollywood could never duplicate (even though it's trying).9/11 isn't a film about politics. Nor is it a film about religion, nationality or even jihad for that matter. 9/11 is a film about people, and a true indication of the best and worst that we are capable of. 9/11 is quite simply one of the most important films I've ever seen, and would be the only film to be born from this event if it were up to me. You can't duplicate this.\""
      ]
     },
     "execution_count": 12,
     "metadata": {},
     "output_type": "execute_result"
    }
   ],
   "source": [
    "data.iloc[2].review"
   ]
  },
  {
   "cell_type": "code",
   "execution_count": 13,
   "metadata": {
    "id": "aRV0GAXqfkiW"
   },
   "outputs": [],
   "source": [
    "def convert_lower(text):\n",
    "    return text.lower()"
   ]
  },
  {
   "cell_type": "code",
   "execution_count": 14,
   "metadata": {
    "id": "B8aeJquzfn_d"
   },
   "outputs": [],
   "source": [
    "data['review'] = data['review'].apply(convert_lower)"
   ]
  },
  {
   "cell_type": "code",
   "execution_count": 15,
   "metadata": {
    "colab": {
     "base_uri": "https://localhost:8080/",
     "height": 204
    },
    "id": "euevWoNtfqIu",
    "outputId": "41f89060-1b52-476c-cce8-da4252cad81c"
   },
   "outputs": [
    {
     "data": {
      "text/html": [
       "<div>\n",
       "<style scoped>\n",
       "    .dataframe tbody tr th:only-of-type {\n",
       "        vertical-align: middle;\n",
       "    }\n",
       "\n",
       "    .dataframe tbody tr th {\n",
       "        vertical-align: top;\n",
       "    }\n",
       "\n",
       "    .dataframe thead th {\n",
       "        text-align: right;\n",
       "    }\n",
       "</style>\n",
       "<table border=\"1\" class=\"dataframe\">\n",
       "  <thead>\n",
       "    <tr style=\"text-align: right;\">\n",
       "      <th></th>\n",
       "      <th>index</th>\n",
       "      <th>review</th>\n",
       "      <th>sentiment</th>\n",
       "    </tr>\n",
       "  </thead>\n",
       "  <tbody>\n",
       "    <tr>\n",
       "      <th>0</th>\n",
       "      <td>12482</td>\n",
       "      <td>i saw this movie on vhs some time ago (27 jan ...</td>\n",
       "      <td>0</td>\n",
       "    </tr>\n",
       "    <tr>\n",
       "      <th>1</th>\n",
       "      <td>9923</td>\n",
       "      <td>since i am required to write minimum of 10 lin...</td>\n",
       "      <td>0</td>\n",
       "    </tr>\n",
       "    <tr>\n",
       "      <th>2</th>\n",
       "      <td>12991</td>\n",
       "      <td>i was one of many that expected to see a glori...</td>\n",
       "      <td>1</td>\n",
       "    </tr>\n",
       "    <tr>\n",
       "      <th>3</th>\n",
       "      <td>23199</td>\n",
       "      <td>american icon henry fonda portrays \"elegant\" j...</td>\n",
       "      <td>1</td>\n",
       "    </tr>\n",
       "    <tr>\n",
       "      <th>4</th>\n",
       "      <td>38069</td>\n",
       "      <td>this is one very confusing movie. the film is ...</td>\n",
       "      <td>0</td>\n",
       "    </tr>\n",
       "  </tbody>\n",
       "</table>\n",
       "</div>"
      ],
      "text/plain": [
       "   index                                             review  sentiment\n",
       "0  12482  i saw this movie on vhs some time ago (27 jan ...          0\n",
       "1   9923  since i am required to write minimum of 10 lin...          0\n",
       "2  12991  i was one of many that expected to see a glori...          1\n",
       "3  23199  american icon henry fonda portrays \"elegant\" j...          1\n",
       "4  38069  this is one very confusing movie. the film is ...          0"
      ]
     },
     "execution_count": 15,
     "metadata": {},
     "output_type": "execute_result"
    }
   ],
   "source": [
    "data.head()"
   ]
  },
  {
   "cell_type": "code",
   "execution_count": 16,
   "metadata": {
    "id": "f-tWQtFyfsyi"
   },
   "outputs": [],
   "source": [
    "def remove_special(text):\n",
    "    x = \"\"\n",
    "    \n",
    "    for i in text:\n",
    "        if i.isalnum():\n",
    "            x = x + i\n",
    "        else:\n",
    "            x = x + \" \"\n",
    "    return x"
   ]
  },
  {
   "cell_type": "code",
   "execution_count": 17,
   "metadata": {
    "colab": {
     "base_uri": "https://localhost:8080/",
     "height": 139
    },
    "id": "I3r4jnzsgVJM",
    "outputId": "f95be265-0b0e-4f7f-cf92-240664c46091"
   },
   "outputs": [
    {
     "data": {
      "text/plain": [
       "\"i was one of many that expected to see a glorified, yankee-doodle dandy portrayal of a day that (as famously quoted) should live in infamy, rather than glory. how wrong i was. these guys were there, right in the middle of it, and the pictures they returned are both amazing and heartbreaking. and yet it all occurred on a chance trip to the world trade centre on september 11, 2001.two french filmmakers were compiling a documentary about life as a ny firefighter, particularly from the perspective of a young rookie coming up through the ranks. at the beginning we see much of this footage, just to remind us that there was no thought to producing a film about terrorism. this was intended to be a film about regular people earning an honest living helping others, and the beauty of the film is that it never loses this edge.while investigating a suspect gas line (i think, my memory's a little hazy on that), we suddenly hear a plane fly overhead. the camera pans up to reveal a commercial jet torpedoing itself into one of the towers. what must the cameraman have been thinking at this time? recognising the importance of the footage the camera stays on, and possibly realizing the same thing, the fdny allow the camera to follow them into the building.what follows is a true view from the front-lines. we see the commitment of the fdny, their reactions (the stunned silence after hearing the first person fall to their death is chilling) as well as the collapse of the one of the buildings from the inside, while a second camera captures the events from the outside.if it wasn't for the horrific event they were covering, the footage alone would be any young doco-maker's dream come true. quite simply, the footage deserves to be preserved for all time. but what really sets this film apart is the genuine humanity that it brings to the viewer. we see firefighters charging in without hesitation, people of different races helping one another escape to wave of rubble and even the concern of the filmmakers for one another (they are brothers) as they cannot reach one another in the confusion. there are amazing sights as well as amazing human stories in this film, something hollywood could never duplicate (even though it's trying).9/11 isn't a film about politics. nor is it a film about religion, nationality or even jihad for that matter. 9/11 is a film about people, and a true indication of the best and worst that we are capable of. 9/11 is quite simply one of the most important films i've ever seen, and would be the only film to be born from this event if it were up to me. you can't duplicate this.\""
      ]
     },
     "execution_count": 17,
     "metadata": {},
     "output_type": "execute_result"
    }
   ],
   "source": [
    "data.iloc[2].review"
   ]
  },
  {
   "cell_type": "code",
   "execution_count": 18,
   "metadata": {
    "colab": {
     "base_uri": "https://localhost:8080/",
     "height": 139
    },
    "id": "ZFD7gtMTgYz5",
    "outputId": "30fe998f-1ce9-47d9-cacf-649accb96de7"
   },
   "outputs": [
    {
     "data": {
      "text/plain": [
       "'i was one of many that expected to see a glorified  yankee doodle dandy portrayal of a day that  as famously quoted  should live in infamy  rather than glory  how wrong i was  these guys were there  right in the middle of it  and the pictures they returned are both amazing and heartbreaking  and yet it all occurred on a chance trip to the world trade centre on september 11  2001 two french filmmakers were compiling a documentary about life as a ny firefighter  particularly from the perspective of a young rookie coming up through the ranks  at the beginning we see much of this footage  just to remind us that there was no thought to producing a film about terrorism  this was intended to be a film about regular people earning an honest living helping others  and the beauty of the film is that it never loses this edge while investigating a suspect gas line  i think  my memory s a little hazy on that   we suddenly hear a plane fly overhead  the camera pans up to reveal a commercial jet torpedoing itself into one of the towers  what must the cameraman have been thinking at this time  recognising the importance of the footage the camera stays on  and possibly realizing the same thing  the fdny allow the camera to follow them into the building what follows is a true view from the front lines  we see the commitment of the fdny  their reactions  the stunned silence after hearing the first person fall to their death is chilling  as well as the collapse of the one of the buildings from the inside  while a second camera captures the events from the outside if it wasn t for the horrific event they were covering  the footage alone would be any young doco maker s dream come true  quite simply  the footage deserves to be preserved for all time  but what really sets this film apart is the genuine humanity that it brings to the viewer  we see firefighters charging in without hesitation  people of different races helping one another escape to wave of rubble and even the concern of the filmmakers for one another  they are brothers  as they cannot reach one another in the confusion  there are amazing sights as well as amazing human stories in this film  something hollywood could never duplicate  even though it s trying  9 11 isn t a film about politics  nor is it a film about religion  nationality or even jihad for that matter  9 11 is a film about people  and a true indication of the best and worst that we are capable of  9 11 is quite simply one of the most important films i ve ever seen  and would be the only film to be born from this event if it were up to me  you can t duplicate this '"
      ]
     },
     "execution_count": 18,
     "metadata": {},
     "output_type": "execute_result"
    }
   ],
   "source": [
    "remove_special(data.iloc[2].review)"
   ]
  },
  {
   "cell_type": "code",
   "execution_count": 19,
   "metadata": {
    "colab": {
     "base_uri": "https://localhost:8080/",
     "height": 204
    },
    "id": "QtEB1cfAgaju",
    "outputId": "464ae119-5f5e-4378-c9ec-60c839d4bfdd"
   },
   "outputs": [
    {
     "data": {
      "text/html": [
       "<div>\n",
       "<style scoped>\n",
       "    .dataframe tbody tr th:only-of-type {\n",
       "        vertical-align: middle;\n",
       "    }\n",
       "\n",
       "    .dataframe tbody tr th {\n",
       "        vertical-align: top;\n",
       "    }\n",
       "\n",
       "    .dataframe thead th {\n",
       "        text-align: right;\n",
       "    }\n",
       "</style>\n",
       "<table border=\"1\" class=\"dataframe\">\n",
       "  <thead>\n",
       "    <tr style=\"text-align: right;\">\n",
       "      <th></th>\n",
       "      <th>index</th>\n",
       "      <th>review</th>\n",
       "      <th>sentiment</th>\n",
       "    </tr>\n",
       "  </thead>\n",
       "  <tbody>\n",
       "    <tr>\n",
       "      <th>0</th>\n",
       "      <td>12482</td>\n",
       "      <td>i saw this movie on vhs some time ago  27 jan ...</td>\n",
       "      <td>0</td>\n",
       "    </tr>\n",
       "    <tr>\n",
       "      <th>1</th>\n",
       "      <td>9923</td>\n",
       "      <td>since i am required to write minimum of 10 lin...</td>\n",
       "      <td>0</td>\n",
       "    </tr>\n",
       "    <tr>\n",
       "      <th>2</th>\n",
       "      <td>12991</td>\n",
       "      <td>i was one of many that expected to see a glori...</td>\n",
       "      <td>1</td>\n",
       "    </tr>\n",
       "    <tr>\n",
       "      <th>3</th>\n",
       "      <td>23199</td>\n",
       "      <td>american icon henry fonda portrays  elegant  j...</td>\n",
       "      <td>1</td>\n",
       "    </tr>\n",
       "    <tr>\n",
       "      <th>4</th>\n",
       "      <td>38069</td>\n",
       "      <td>this is one very confusing movie  the film is ...</td>\n",
       "      <td>0</td>\n",
       "    </tr>\n",
       "  </tbody>\n",
       "</table>\n",
       "</div>"
      ],
      "text/plain": [
       "   index                                             review  sentiment\n",
       "0  12482  i saw this movie on vhs some time ago  27 jan ...          0\n",
       "1   9923  since i am required to write minimum of 10 lin...          0\n",
       "2  12991  i was one of many that expected to see a glori...          1\n",
       "3  23199  american icon henry fonda portrays  elegant  j...          1\n",
       "4  38069  this is one very confusing movie  the film is ...          0"
      ]
     },
     "execution_count": 19,
     "metadata": {},
     "output_type": "execute_result"
    }
   ],
   "source": [
    "data['review'] = data['review'].apply(remove_special)\n",
    "data.head()"
   ]
  },
  {
   "cell_type": "code",
   "execution_count": 20,
   "metadata": {
    "colab": {
     "base_uri": "https://localhost:8080/"
    },
    "id": "DOGGAydEiamg",
    "outputId": "f313ec47-1457-433b-831d-7b137f41d775"
   },
   "outputs": [
    {
     "name": "stderr",
     "output_type": "stream",
     "text": [
      "[nltk_data] Downloading package stopwords to\n",
      "[nltk_data]     /Users/ritwikghosh/nltk_data...\n",
      "[nltk_data]   Unzipping corpora/stopwords.zip.\n"
     ]
    },
    {
     "data": {
      "text/plain": [
       "True"
      ]
     },
     "execution_count": 20,
     "metadata": {},
     "output_type": "execute_result"
    }
   ],
   "source": [
    "nltk.download('stopwords')"
   ]
  },
  {
   "cell_type": "code",
   "execution_count": 21,
   "metadata": {
    "colab": {
     "base_uri": "https://localhost:8080/"
    },
    "id": "p02-ghvpiPPQ",
    "outputId": "54e505d1-cda6-4909-84ba-ea04b212b296"
   },
   "outputs": [
    {
     "data": {
      "text/plain": [
       "['i',\n",
       " 'me',\n",
       " 'my',\n",
       " 'myself',\n",
       " 'we',\n",
       " 'our',\n",
       " 'ours',\n",
       " 'ourselves',\n",
       " 'you',\n",
       " \"you're\",\n",
       " \"you've\",\n",
       " \"you'll\",\n",
       " \"you'd\",\n",
       " 'your',\n",
       " 'yours',\n",
       " 'yourself',\n",
       " 'yourselves',\n",
       " 'he',\n",
       " 'him',\n",
       " 'his',\n",
       " 'himself',\n",
       " 'she',\n",
       " \"she's\",\n",
       " 'her',\n",
       " 'hers',\n",
       " 'herself',\n",
       " 'it',\n",
       " \"it's\",\n",
       " 'its',\n",
       " 'itself',\n",
       " 'they',\n",
       " 'them',\n",
       " 'their',\n",
       " 'theirs',\n",
       " 'themselves',\n",
       " 'what',\n",
       " 'which',\n",
       " 'who',\n",
       " 'whom',\n",
       " 'this',\n",
       " 'that',\n",
       " \"that'll\",\n",
       " 'these',\n",
       " 'those',\n",
       " 'am',\n",
       " 'is',\n",
       " 'are',\n",
       " 'was',\n",
       " 'were',\n",
       " 'be',\n",
       " 'been',\n",
       " 'being',\n",
       " 'have',\n",
       " 'has',\n",
       " 'had',\n",
       " 'having',\n",
       " 'do',\n",
       " 'does',\n",
       " 'did',\n",
       " 'doing',\n",
       " 'a',\n",
       " 'an',\n",
       " 'the',\n",
       " 'and',\n",
       " 'but',\n",
       " 'if',\n",
       " 'or',\n",
       " 'because',\n",
       " 'as',\n",
       " 'until',\n",
       " 'while',\n",
       " 'of',\n",
       " 'at',\n",
       " 'by',\n",
       " 'for',\n",
       " 'with',\n",
       " 'about',\n",
       " 'against',\n",
       " 'between',\n",
       " 'into',\n",
       " 'through',\n",
       " 'during',\n",
       " 'before',\n",
       " 'after',\n",
       " 'above',\n",
       " 'below',\n",
       " 'to',\n",
       " 'from',\n",
       " 'up',\n",
       " 'down',\n",
       " 'in',\n",
       " 'out',\n",
       " 'on',\n",
       " 'off',\n",
       " 'over',\n",
       " 'under',\n",
       " 'again',\n",
       " 'further',\n",
       " 'then',\n",
       " 'once',\n",
       " 'here',\n",
       " 'there',\n",
       " 'when',\n",
       " 'where',\n",
       " 'why',\n",
       " 'how',\n",
       " 'all',\n",
       " 'any',\n",
       " 'both',\n",
       " 'each',\n",
       " 'few',\n",
       " 'more',\n",
       " 'most',\n",
       " 'other',\n",
       " 'some',\n",
       " 'such',\n",
       " 'no',\n",
       " 'nor',\n",
       " 'not',\n",
       " 'only',\n",
       " 'own',\n",
       " 'same',\n",
       " 'so',\n",
       " 'than',\n",
       " 'too',\n",
       " 'very',\n",
       " 's',\n",
       " 't',\n",
       " 'can',\n",
       " 'will',\n",
       " 'just',\n",
       " 'don',\n",
       " \"don't\",\n",
       " 'should',\n",
       " \"should've\",\n",
       " 'now',\n",
       " 'd',\n",
       " 'll',\n",
       " 'm',\n",
       " 'o',\n",
       " 're',\n",
       " 've',\n",
       " 'y',\n",
       " 'ain',\n",
       " 'aren',\n",
       " \"aren't\",\n",
       " 'couldn',\n",
       " \"couldn't\",\n",
       " 'didn',\n",
       " \"didn't\",\n",
       " 'doesn',\n",
       " \"doesn't\",\n",
       " 'hadn',\n",
       " \"hadn't\",\n",
       " 'hasn',\n",
       " \"hasn't\",\n",
       " 'haven',\n",
       " \"haven't\",\n",
       " 'isn',\n",
       " \"isn't\",\n",
       " 'ma',\n",
       " 'mightn',\n",
       " \"mightn't\",\n",
       " 'mustn',\n",
       " \"mustn't\",\n",
       " 'needn',\n",
       " \"needn't\",\n",
       " 'shan',\n",
       " \"shan't\",\n",
       " 'shouldn',\n",
       " \"shouldn't\",\n",
       " 'wasn',\n",
       " \"wasn't\",\n",
       " 'weren',\n",
       " \"weren't\",\n",
       " 'won',\n",
       " \"won't\",\n",
       " 'wouldn',\n",
       " \"wouldn't\"]"
      ]
     },
     "execution_count": 21,
     "metadata": {},
     "output_type": "execute_result"
    }
   ],
   "source": [
    "stopwords.words('english')"
   ]
  },
  {
   "cell_type": "code",
   "execution_count": 22,
   "metadata": {
    "id": "fZQOdUYBhgzo"
   },
   "outputs": [],
   "source": [
    "def remove_stopwords(text): \n",
    "    x = []\n",
    "    for i in text.split():\n",
    "        if i not in stopwords.words('english'):\n",
    "            x.append(i)\n",
    "    y = x[:]\n",
    "    x.clear()\n",
    "    return y"
   ]
  },
  {
   "cell_type": "code",
   "execution_count": 23,
   "metadata": {
    "colab": {
     "base_uri": "https://localhost:8080/",
     "height": 139
    },
    "id": "QMf2QcQ6hmh2",
    "outputId": "a2c43faf-2f5b-475a-a8e0-90cc54011623"
   },
   "outputs": [
    {
     "data": {
      "text/plain": [
       "'i was one of many that expected to see a glorified  yankee doodle dandy portrayal of a day that  as famously quoted  should live in infamy  rather than glory  how wrong i was  these guys were there  right in the middle of it  and the pictures they returned are both amazing and heartbreaking  and yet it all occurred on a chance trip to the world trade centre on september 11  2001 two french filmmakers were compiling a documentary about life as a ny firefighter  particularly from the perspective of a young rookie coming up through the ranks  at the beginning we see much of this footage  just to remind us that there was no thought to producing a film about terrorism  this was intended to be a film about regular people earning an honest living helping others  and the beauty of the film is that it never loses this edge while investigating a suspect gas line  i think  my memory s a little hazy on that   we suddenly hear a plane fly overhead  the camera pans up to reveal a commercial jet torpedoing itself into one of the towers  what must the cameraman have been thinking at this time  recognising the importance of the footage the camera stays on  and possibly realizing the same thing  the fdny allow the camera to follow them into the building what follows is a true view from the front lines  we see the commitment of the fdny  their reactions  the stunned silence after hearing the first person fall to their death is chilling  as well as the collapse of the one of the buildings from the inside  while a second camera captures the events from the outside if it wasn t for the horrific event they were covering  the footage alone would be any young doco maker s dream come true  quite simply  the footage deserves to be preserved for all time  but what really sets this film apart is the genuine humanity that it brings to the viewer  we see firefighters charging in without hesitation  people of different races helping one another escape to wave of rubble and even the concern of the filmmakers for one another  they are brothers  as they cannot reach one another in the confusion  there are amazing sights as well as amazing human stories in this film  something hollywood could never duplicate  even though it s trying  9 11 isn t a film about politics  nor is it a film about religion  nationality or even jihad for that matter  9 11 is a film about people  and a true indication of the best and worst that we are capable of  9 11 is quite simply one of the most important films i ve ever seen  and would be the only film to be born from this event if it were up to me  you can t duplicate this '"
      ]
     },
     "execution_count": 23,
     "metadata": {},
     "output_type": "execute_result"
    }
   ],
   "source": [
    "data.iloc[2].review"
   ]
  },
  {
   "cell_type": "code",
   "execution_count": 24,
   "metadata": {
    "colab": {
     "base_uri": "https://localhost:8080/"
    },
    "id": "pfCavMbnj7bG",
    "outputId": "d6856f72-07e0-4908-de37-25ac537ab6cb"
   },
   "outputs": [
    {
     "data": {
      "text/plain": [
       "['one',\n",
       " 'many',\n",
       " 'expected',\n",
       " 'see',\n",
       " 'glorified',\n",
       " 'yankee',\n",
       " 'doodle',\n",
       " 'dandy',\n",
       " 'portrayal',\n",
       " 'day',\n",
       " 'famously',\n",
       " 'quoted',\n",
       " 'live',\n",
       " 'infamy',\n",
       " 'rather',\n",
       " 'glory',\n",
       " 'wrong',\n",
       " 'guys',\n",
       " 'right',\n",
       " 'middle',\n",
       " 'pictures',\n",
       " 'returned',\n",
       " 'amazing',\n",
       " 'heartbreaking',\n",
       " 'yet',\n",
       " 'occurred',\n",
       " 'chance',\n",
       " 'trip',\n",
       " 'world',\n",
       " 'trade',\n",
       " 'centre',\n",
       " 'september',\n",
       " '11',\n",
       " '2001',\n",
       " 'two',\n",
       " 'french',\n",
       " 'filmmakers',\n",
       " 'compiling',\n",
       " 'documentary',\n",
       " 'life',\n",
       " 'ny',\n",
       " 'firefighter',\n",
       " 'particularly',\n",
       " 'perspective',\n",
       " 'young',\n",
       " 'rookie',\n",
       " 'coming',\n",
       " 'ranks',\n",
       " 'beginning',\n",
       " 'see',\n",
       " 'much',\n",
       " 'footage',\n",
       " 'remind',\n",
       " 'us',\n",
       " 'thought',\n",
       " 'producing',\n",
       " 'film',\n",
       " 'terrorism',\n",
       " 'intended',\n",
       " 'film',\n",
       " 'regular',\n",
       " 'people',\n",
       " 'earning',\n",
       " 'honest',\n",
       " 'living',\n",
       " 'helping',\n",
       " 'others',\n",
       " 'beauty',\n",
       " 'film',\n",
       " 'never',\n",
       " 'loses',\n",
       " 'edge',\n",
       " 'investigating',\n",
       " 'suspect',\n",
       " 'gas',\n",
       " 'line',\n",
       " 'think',\n",
       " 'memory',\n",
       " 'little',\n",
       " 'hazy',\n",
       " 'suddenly',\n",
       " 'hear',\n",
       " 'plane',\n",
       " 'fly',\n",
       " 'overhead',\n",
       " 'camera',\n",
       " 'pans',\n",
       " 'reveal',\n",
       " 'commercial',\n",
       " 'jet',\n",
       " 'torpedoing',\n",
       " 'one',\n",
       " 'towers',\n",
       " 'must',\n",
       " 'cameraman',\n",
       " 'thinking',\n",
       " 'time',\n",
       " 'recognising',\n",
       " 'importance',\n",
       " 'footage',\n",
       " 'camera',\n",
       " 'stays',\n",
       " 'possibly',\n",
       " 'realizing',\n",
       " 'thing',\n",
       " 'fdny',\n",
       " 'allow',\n",
       " 'camera',\n",
       " 'follow',\n",
       " 'building',\n",
       " 'follows',\n",
       " 'true',\n",
       " 'view',\n",
       " 'front',\n",
       " 'lines',\n",
       " 'see',\n",
       " 'commitment',\n",
       " 'fdny',\n",
       " 'reactions',\n",
       " 'stunned',\n",
       " 'silence',\n",
       " 'hearing',\n",
       " 'first',\n",
       " 'person',\n",
       " 'fall',\n",
       " 'death',\n",
       " 'chilling',\n",
       " 'well',\n",
       " 'collapse',\n",
       " 'one',\n",
       " 'buildings',\n",
       " 'inside',\n",
       " 'second',\n",
       " 'camera',\n",
       " 'captures',\n",
       " 'events',\n",
       " 'outside',\n",
       " 'horrific',\n",
       " 'event',\n",
       " 'covering',\n",
       " 'footage',\n",
       " 'alone',\n",
       " 'would',\n",
       " 'young',\n",
       " 'doco',\n",
       " 'maker',\n",
       " 'dream',\n",
       " 'come',\n",
       " 'true',\n",
       " 'quite',\n",
       " 'simply',\n",
       " 'footage',\n",
       " 'deserves',\n",
       " 'preserved',\n",
       " 'time',\n",
       " 'really',\n",
       " 'sets',\n",
       " 'film',\n",
       " 'apart',\n",
       " 'genuine',\n",
       " 'humanity',\n",
       " 'brings',\n",
       " 'viewer',\n",
       " 'see',\n",
       " 'firefighters',\n",
       " 'charging',\n",
       " 'without',\n",
       " 'hesitation',\n",
       " 'people',\n",
       " 'different',\n",
       " 'races',\n",
       " 'helping',\n",
       " 'one',\n",
       " 'another',\n",
       " 'escape',\n",
       " 'wave',\n",
       " 'rubble',\n",
       " 'even',\n",
       " 'concern',\n",
       " 'filmmakers',\n",
       " 'one',\n",
       " 'another',\n",
       " 'brothers',\n",
       " 'cannot',\n",
       " 'reach',\n",
       " 'one',\n",
       " 'another',\n",
       " 'confusion',\n",
       " 'amazing',\n",
       " 'sights',\n",
       " 'well',\n",
       " 'amazing',\n",
       " 'human',\n",
       " 'stories',\n",
       " 'film',\n",
       " 'something',\n",
       " 'hollywood',\n",
       " 'could',\n",
       " 'never',\n",
       " 'duplicate',\n",
       " 'even',\n",
       " 'though',\n",
       " 'trying',\n",
       " '9',\n",
       " '11',\n",
       " 'film',\n",
       " 'politics',\n",
       " 'film',\n",
       " 'religion',\n",
       " 'nationality',\n",
       " 'even',\n",
       " 'jihad',\n",
       " 'matter',\n",
       " '9',\n",
       " '11',\n",
       " 'film',\n",
       " 'people',\n",
       " 'true',\n",
       " 'indication',\n",
       " 'best',\n",
       " 'worst',\n",
       " 'capable',\n",
       " '9',\n",
       " '11',\n",
       " 'quite',\n",
       " 'simply',\n",
       " 'one',\n",
       " 'important',\n",
       " 'films',\n",
       " 'ever',\n",
       " 'seen',\n",
       " 'would',\n",
       " 'film',\n",
       " 'born',\n",
       " 'event',\n",
       " 'duplicate']"
      ]
     },
     "execution_count": 24,
     "metadata": {},
     "output_type": "execute_result"
    }
   ],
   "source": [
    "remove_stopwords(data.iloc[2].review)"
   ]
  },
  {
   "cell_type": "code",
   "execution_count": 25,
   "metadata": {
    "colab": {
     "background_save": true
    },
    "id": "1-kx7j_ihzUA"
   },
   "outputs": [],
   "source": [
    "data['review'] = data['review'].apply(remove_stopwords)"
   ]
  },
  {
   "cell_type": "code",
   "execution_count": 26,
   "metadata": {
    "colab": {
     "background_save": true
    },
    "id": "GSUbOGy5h6c4"
   },
   "outputs": [],
   "source": [
    "ps = PorterStemmer()"
   ]
  },
  {
   "cell_type": "code",
   "execution_count": 27,
   "metadata": {
    "colab": {
     "background_save": true
    },
    "id": "VWD-I7HLospM"
   },
   "outputs": [],
   "source": [
    "y = []\n",
    "def stem_words(text):\n",
    "    for i in text:\n",
    "        y.append(ps.stem(i))\n",
    "    z = y[:]\n",
    "    y.clear()\n",
    "    return z"
   ]
  },
  {
   "cell_type": "code",
   "execution_count": 28,
   "metadata": {
    "colab": {
     "base_uri": "https://localhost:8080/",
     "height": 204
    },
    "id": "liPnp18lovly",
    "outputId": "8df4d542-5431-455f-8cbe-91c12bd513e6"
   },
   "outputs": [
    {
     "data": {
      "text/html": [
       "<div>\n",
       "<style scoped>\n",
       "    .dataframe tbody tr th:only-of-type {\n",
       "        vertical-align: middle;\n",
       "    }\n",
       "\n",
       "    .dataframe tbody tr th {\n",
       "        vertical-align: top;\n",
       "    }\n",
       "\n",
       "    .dataframe thead th {\n",
       "        text-align: right;\n",
       "    }\n",
       "</style>\n",
       "<table border=\"1\" class=\"dataframe\">\n",
       "  <thead>\n",
       "    <tr style=\"text-align: right;\">\n",
       "      <th></th>\n",
       "      <th>index</th>\n",
       "      <th>review</th>\n",
       "      <th>sentiment</th>\n",
       "    </tr>\n",
       "  </thead>\n",
       "  <tbody>\n",
       "    <tr>\n",
       "      <th>0</th>\n",
       "      <td>12482</td>\n",
       "      <td>[saw, movi, vh, time, ago, 27, jan, 2003, name...</td>\n",
       "      <td>0</td>\n",
       "    </tr>\n",
       "    <tr>\n",
       "      <th>1</th>\n",
       "      <td>9923</td>\n",
       "      <td>[sinc, requir, write, minimum, 10, line, garba...</td>\n",
       "      <td>0</td>\n",
       "    </tr>\n",
       "    <tr>\n",
       "      <th>2</th>\n",
       "      <td>12991</td>\n",
       "      <td>[one, mani, expect, see, glorifi, yanke, doodl...</td>\n",
       "      <td>1</td>\n",
       "    </tr>\n",
       "    <tr>\n",
       "      <th>3</th>\n",
       "      <td>23199</td>\n",
       "      <td>[american, icon, henri, fonda, portray, eleg, ...</td>\n",
       "      <td>1</td>\n",
       "    </tr>\n",
       "    <tr>\n",
       "      <th>4</th>\n",
       "      <td>38069</td>\n",
       "      <td>[one, confus, movi, film, hard, follow, plot, ...</td>\n",
       "      <td>0</td>\n",
       "    </tr>\n",
       "  </tbody>\n",
       "</table>\n",
       "</div>"
      ],
      "text/plain": [
       "   index                                             review  sentiment\n",
       "0  12482  [saw, movi, vh, time, ago, 27, jan, 2003, name...          0\n",
       "1   9923  [sinc, requir, write, minimum, 10, line, garba...          0\n",
       "2  12991  [one, mani, expect, see, glorifi, yanke, doodl...          1\n",
       "3  23199  [american, icon, henri, fonda, portray, eleg, ...          1\n",
       "4  38069  [one, confus, movi, film, hard, follow, plot, ...          0"
      ]
     },
     "execution_count": 28,
     "metadata": {},
     "output_type": "execute_result"
    }
   ],
   "source": [
    "data['review'] = data['review'].apply(stem_words)\n",
    "data.head()"
   ]
  },
  {
   "cell_type": "code",
   "execution_count": 29,
   "metadata": {
    "id": "RuPHMzVRox-T"
   },
   "outputs": [],
   "source": [
    "# Join Back\n",
    "def join_back(list_input):\n",
    "    return \" \".join(list_input)"
   ]
  },
  {
   "cell_type": "code",
   "execution_count": 30,
   "metadata": {
    "colab": {
     "base_uri": "https://localhost:8080/",
     "height": 391
    },
    "id": "V0hdSSJpo0tv",
    "outputId": "9aa670d0-8af9-4174-a688-057c91046ce6"
   },
   "outputs": [
    {
     "data": {
      "text/html": [
       "<div>\n",
       "<style scoped>\n",
       "    .dataframe tbody tr th:only-of-type {\n",
       "        vertical-align: middle;\n",
       "    }\n",
       "\n",
       "    .dataframe tbody tr th {\n",
       "        vertical-align: top;\n",
       "    }\n",
       "\n",
       "    .dataframe thead th {\n",
       "        text-align: right;\n",
       "    }\n",
       "</style>\n",
       "<table border=\"1\" class=\"dataframe\">\n",
       "  <thead>\n",
       "    <tr style=\"text-align: right;\">\n",
       "      <th></th>\n",
       "      <th>index</th>\n",
       "      <th>review</th>\n",
       "      <th>sentiment</th>\n",
       "    </tr>\n",
       "  </thead>\n",
       "  <tbody>\n",
       "    <tr>\n",
       "      <th>0</th>\n",
       "      <td>12482</td>\n",
       "      <td>saw movi vh time ago 27 jan 2003 name paul rud...</td>\n",
       "      <td>0</td>\n",
       "    </tr>\n",
       "    <tr>\n",
       "      <th>1</th>\n",
       "      <td>9923</td>\n",
       "      <td>sinc requir write minimum 10 line garbag deser...</td>\n",
       "      <td>0</td>\n",
       "    </tr>\n",
       "    <tr>\n",
       "      <th>2</th>\n",
       "      <td>12991</td>\n",
       "      <td>one mani expect see glorifi yanke doodl dandi ...</td>\n",
       "      <td>1</td>\n",
       "    </tr>\n",
       "    <tr>\n",
       "      <th>3</th>\n",
       "      <td>23199</td>\n",
       "      <td>american icon henri fonda portray eleg john ho...</td>\n",
       "      <td>1</td>\n",
       "    </tr>\n",
       "    <tr>\n",
       "      <th>4</th>\n",
       "      <td>38069</td>\n",
       "      <td>one confus movi film hard follow plot seem mak...</td>\n",
       "      <td>0</td>\n",
       "    </tr>\n",
       "  </tbody>\n",
       "</table>\n",
       "</div>"
      ],
      "text/plain": [
       "   index                                             review  sentiment\n",
       "0  12482  saw movi vh time ago 27 jan 2003 name paul rud...          0\n",
       "1   9923  sinc requir write minimum 10 line garbag deser...          0\n",
       "2  12991  one mani expect see glorifi yanke doodl dandi ...          1\n",
       "3  23199  american icon henri fonda portray eleg john ho...          1\n",
       "4  38069  one confus movi film hard follow plot seem mak...          0"
      ]
     },
     "execution_count": 30,
     "metadata": {},
     "output_type": "execute_result"
    }
   ],
   "source": [
    "data['review'] = data['review'].apply(join_back)\n",
    "data.head()"
   ]
  },
  {
   "cell_type": "code",
   "execution_count": 31,
   "metadata": {
    "id": "HLMd_yceo3ZF"
   },
   "outputs": [],
   "source": [
    "max_f = -1"
   ]
  },
  {
   "cell_type": "code",
   "execution_count": 108,
   "metadata": {
    "colab": {
     "base_uri": "https://localhost:8080/"
    },
    "id": "yiCT-dsBB2T-",
    "outputId": "d1142e6c-810f-4d52-8734-2185c88b8e32"
   },
   "outputs": [
    {
     "name": "stdout",
     "output_type": "stream",
     "text": [
      "0.8552\n"
     ]
    }
   ],
   "source": [
    "cv= CountVectorizer(max_features=3700, ngram_range= (1,2))\n",
    "\n",
    "x = cv.fit_transform(data['review']).toarray()\n",
    "y = data.iloc[:,-1].values\n",
    "\n",
    "x_train, x_test, y_train, y_test = train_test_split(x, y, test_size = 0.2)\n",
    "    \n",
    "# clf1 = GaussianNB()\n",
    "# clf2 = MultinomialNB()\n",
    "clf3 = BernoulliNB()\n",
    "\n",
    "# clf1.fit(x_train, y_train)\n",
    "# clf2.fit(x_train, y_train)\n",
    "clf3.fit(x_train, y_train)\n",
    "\n",
    "# y_pred1 = clf1.predict(x_test)\n",
    "# y_pred2 = clf2.predict(x_test)\n",
    "y_pred3 = clf3.predict(x_test)\n",
    "\n",
    "# a_score1 = accuracy_score(y_test, y_pred1)\n",
    "# a_score2 = accuracy_score(y_test, y_pred2)\n",
    "a_score3 = accuracy_score(y_test, y_pred3)\n",
    "\n",
    "print(a_score3)\n",
    "# if(a_score1 > max_f):\n",
    "#     print(i)\n",
    "#     print(\"Gaussian:\", a_score1)\n",
    "#     max_f = a_score1\n",
    "#     print()\n",
    "\n",
    "# if(a_score2 > max_f): is \n",
    "#     print(i)\n",
    "#     print(\"Multinomial:\", a_score2)\n",
    "#     max_f = a_score2\n",
    "#     print()\n",
    "\n",
    "# if(a_score3 > max_f):\n",
    "#     print(i)\n",
    "#     print(\"Bernaulli:\", a_score3)\n",
    "#     max_f = a_score3\n",
    "#     print()"
   ]
  },
  {
   "cell_type": "code",
   "execution_count": 34,
   "metadata": {
    "id": "Fb-h2CWC8SAC"
   },
   "outputs": [],
   "source": [
    "# for i in range(9500, 10000, 100):\n",
    "    \n",
    "#     cv= CountVectorizer(max_features=i, ngram_range= (1,2))\n",
    "    \n",
    "#     x = cv.fit_transform(data['review']).toarray()\n",
    "#     y = data.iloc[:,-1].values\n",
    "\n",
    "#     x_train, x_test, y_train, y_test = train_test_split(x, y, test_size = 0.2)\n",
    "        \n",
    "#     clf1 = GaussianNB()\n",
    "#     clf2 = MultinomialNB()\n",
    "#     clf3 = BernoulliNB()\n",
    "\n",
    "#     clf1.fit(x_train, y_train)\n",
    "#     clf2.fit(x_train, y_train)\n",
    "#     clf3.fit(x_train, y_train)\n",
    "\n",
    "#     y_pred1 = clf1.predict(x_test)\n",
    "#     y_pred2 = clf2.predict(x_test)\n",
    "#     y_pred3 = clf3.predict(x_test)\n",
    "\n",
    "#     a_score1 = accuracy_score(y_test, y_pred1)\n",
    "#     a_score2 = accuracy_score(y_test, y_pred2)\n",
    "#     a_score3 = accuracy_score(y_test, y_pred3)\n",
    "\n",
    "#     if(a_score1 > max_f):\n",
    "#         print(i)\n",
    "#         print(\"Gaussian:\", a_score1)\n",
    "#         max_f = a_score1\n",
    "#         print()\n",
    "\n",
    "#     if(a_score2 > max_f):\n",
    "#         print(i)\n",
    "#         print(\"Multinomial:\", a_score2)\n",
    "#         max_f = a_score2\n",
    "#         print()\n",
    "\n",
    "#     if(a_score3 > max_f):\n",
    "#         print(i)\n",
    "#         print(\"Bernaulli:\", a_score3)\n",
    "#         max_f = a_score3\n",
    "#         print()"
   ]
  },
  {
   "cell_type": "code",
   "execution_count": 109,
   "metadata": {},
   "outputs": [],
   "source": [
    "pickle.dump(clf3, open('mymodels/model.pkl', 'wb'))"
   ]
  },
  {
   "cell_type": "code",
   "execution_count": 110,
   "metadata": {},
   "outputs": [],
   "source": [
    "pickle.dump(cv, open('mymodels/bow.pkl', 'wb'))"
   ]
  },
  {
   "cell_type": "code",
   "execution_count": 111,
   "metadata": {
    "colab": {
     "base_uri": "https://localhost:8080/"
    },
    "id": "-7hjNvReZQ2w",
    "outputId": "07634f12-d4ab-4c3c-c0e7-cd9e15df7dbf"
   },
   "outputs": [
    {
     "data": {
      "text/plain": [
       "array([0, 0, 1, ..., 1, 1, 0])"
      ]
     },
     "execution_count": 111,
     "metadata": {},
     "output_type": "execute_result"
    }
   ],
   "source": [
    "y_test"
   ]
  },
  {
   "cell_type": "code",
   "execution_count": 112,
   "metadata": {
    "id": "T6LZufeMXZ95"
   },
   "outputs": [],
   "source": [
    "import pickle"
   ]
  },
  {
   "cell_type": "code",
   "execution_count": 113,
   "metadata": {
    "id": "cl5K_6lfXarP"
   },
   "outputs": [],
   "source": [
    "words = pickle.load(open(\"mymodels/bow.pkl\", 'rb'))"
   ]
  },
  {
   "cell_type": "code",
   "execution_count": 114,
   "metadata": {
    "colab": {
     "base_uri": "https://localhost:8080/"
    },
    "id": "lVwzP_haXfCq",
    "outputId": "f783e2bf-4f5e-43d2-ca1a-1c37fd8bba47"
   },
   "outputs": [
    {
     "data": {
      "text/plain": [
       "CountVectorizer(max_features=3700, ngram_range=(1, 2))"
      ]
     },
     "execution_count": 114,
     "metadata": {},
     "output_type": "execute_result"
    }
   ],
   "source": [
    "words"
   ]
  },
  {
   "cell_type": "code",
   "execution_count": 115,
   "metadata": {
    "id": "IxNkbBWCXv7a"
   },
   "outputs": [],
   "source": [
    "model = pickle.load(open(\"mymodels/model.pkl\", 'rb'))"
   ]
  },
  {
   "cell_type": "code",
   "execution_count": 116,
   "metadata": {},
   "outputs": [
    {
     "data": {
      "text/plain": [
       "BernoulliNB()"
      ]
     },
     "execution_count": 116,
     "metadata": {},
     "output_type": "execute_result"
    }
   ],
   "source": [
    "model"
   ]
  },
  {
   "cell_type": "code",
   "execution_count": 117,
   "metadata": {},
   "outputs": [
    {
     "data": {
      "text/plain": [
       "<1x3700 sparse matrix of type '<class 'numpy.int64'>'\n",
       "\twith 0 stored elements in Compressed Sparse Row format>"
      ]
     },
     "execution_count": 117,
     "metadata": {},
     "output_type": "execute_result"
    }
   ],
   "source": [
    "words.transform([\"no\"])"
   ]
  },
  {
   "cell_type": "code",
   "execution_count": 122,
   "metadata": {},
   "outputs": [
    {
     "data": {
      "text/plain": [
       "1"
      ]
     },
     "execution_count": 122,
     "metadata": {},
     "output_type": "execute_result"
    }
   ],
   "source": [
    "model.predict(words.transform([\"\"]))[0]"
   ]
  },
  {
   "cell_type": "code",
   "execution_count": 123,
   "metadata": {},
   "outputs": [
    {
     "name": "stdout",
     "output_type": "stream",
     "text": [
      "Collecting vaderSentiment\n",
      "  Downloading vaderSentiment-3.3.2-py2.py3-none-any.whl (125 kB)\n",
      "\u001b[K     |████████████████████████████████| 125 kB 458 kB/s eta 0:00:01\n",
      "\u001b[?25hCollecting requests\n",
      "  Downloading requests-2.25.0-py2.py3-none-any.whl (61 kB)\n",
      "\u001b[K     |████████████████████████████████| 61 kB 318 kB/s eta 0:00:01\n",
      "\u001b[?25hCollecting idna<3,>=2.5\n",
      "  Using cached idna-2.10-py2.py3-none-any.whl (58 kB)\n",
      "Collecting certifi>=2017.4.17\n",
      "  Downloading certifi-2020.11.8-py2.py3-none-any.whl (155 kB)\n",
      "\u001b[K     |████████████████████████████████| 155 kB 714 kB/s eta 0:00:01\n",
      "\u001b[?25hCollecting chardet<4,>=3.0.2\n",
      "  Using cached chardet-3.0.4-py2.py3-none-any.whl (133 kB)\n",
      "Collecting urllib3<1.27,>=1.21.1\n",
      "  Downloading urllib3-1.26.2-py2.py3-none-any.whl (136 kB)\n",
      "\u001b[K     |████████████████████████████████| 136 kB 689 kB/s eta 0:00:01\n",
      "\u001b[?25hInstalling collected packages: idna, certifi, chardet, urllib3, requests, vaderSentiment\n",
      "Successfully installed certifi-2020.11.8 chardet-3.0.4 idna-2.10 requests-2.25.0 urllib3-1.26.2 vaderSentiment-3.3.2\n",
      "\u001b[33mWARNING: You are using pip version 20.2.2; however, version 20.3 is available.\n",
      "You should consider upgrading via the '/Users/ritwikghosh/Desktop/codes/Python/Sentiment-Analysis-Of-Movie-Review/venv/bin/python -m pip install --upgrade pip' command.\u001b[0m\n"
     ]
    }
   ],
   "source": [
    "!pip install vaderSentiment"
   ]
  },
  {
   "cell_type": "code",
   "execution_count": 1,
   "metadata": {},
   "outputs": [],
   "source": [
    "from vaderSentiment.vaderSentiment import SentimentIntensityAnalyzer"
   ]
  },
  {
   "cell_type": "code",
   "execution_count": 2,
   "metadata": {},
   "outputs": [],
   "source": [
    "limit=-0.3"
   ]
  },
  {
   "cell_type": "code",
   "execution_count": 13,
   "metadata": {},
   "outputs": [],
   "source": [
    "def set_score(lim):\n",
    "    limit=lim"
   ]
  },
  {
   "cell_type": "code",
   "execution_count": 2,
   "metadata": {},
   "outputs": [],
   "source": [
    "def sentiment_scores(sentence): \n",
    "  \n",
    "    # Create a SentimentIntensityAnalyzer object. \n",
    "    sid_obj = SentimentIntensityAnalyzer() \n",
    "  \n",
    "    # polarity_scores method of SentimentIntensityAnalyzer \n",
    "    # oject gives a sentiment dictionary. \n",
    "    # which contains pos, neg, neu, and compound scores. \n",
    "    sentiment_dict = sid_obj.polarity_scores(sentence) \n",
    "    \n",
    "    result={}\n",
    "      \n",
    "    print(\"Overall sentiment dictionary is : \", sentiment_dict) \n",
    "    print(\"sentence was rated as \", sentiment_dict['neg']*100, \"% Negative\") \n",
    "    print(\"sentence was rated as \", sentiment_dict['neu']*100, \"% Neutral\") \n",
    "    print(\"sentence was rated as \", sentiment_dict['pos']*100, \"% Positive\") \n",
    "    \n",
    "#     result{'neg_rating':\"Overall sentiment dictionary is : \"+ str(sentiment_dict)}\n",
    "    result['neg_rating']=str('{0:.3g}'.format(sentiment_dict['neg']*100))\n",
    "    result['neu_rating']=str('{0:.3g}'.format(sentiment_dict['neu']*100))\n",
    "    result['pos_rating']=str('{0:.3g}'.format(sentiment_dict['pos']*100))\n",
    "    result['comp_rating']=str('{0:.3g}'.format(sentiment_dict['compound']*100))\n",
    "  \n",
    "    print(\"Sentence Overall Rated As\", end = \" \")\n",
    "    \n",
    "#     result+=\"Sentence Overall Rated As \"\n",
    "  \n",
    "    # decide sentiment as positive, negative and neutral \n",
    "    if sentiment_dict['compound'] >= 0.05 : \n",
    "        print(\"Positive\")\n",
    "        result['res']=\"Positive\"\n",
    "  \n",
    "    elif sentiment_dict['compound'] <= - 0.05 : \n",
    "        print(\"Negative\")\n",
    "        result['res']=\"Negative\"\n",
    "  \n",
    "    else : \n",
    "        print(\"Neutral\")\n",
    "        result['res']=\"Neutral\"\n",
    "    \n",
    "    if sentiment_dict['compound']< limit.get()/100:\n",
    "        print('The sentence is not recommended to be posted')\n",
    "        result['verd']=\"The sentence is not recommended to be posted\"\n",
    "        \n",
    "    else:\n",
    "        print('The sentence is recommended to be posted')\n",
    "        result['verd']=\"The sentence is recommended to be posted\"\n",
    "    return result"
   ]
  },
  {
   "cell_type": "code",
   "execution_count": 34,
   "metadata": {},
   "outputs": [
    {
     "name": "stdout",
     "output_type": "stream",
     "text": [
      "Overall sentiment dictionary is :  {'neg': 0.0, 'neu': 0.667, 'pos': 0.333, 'compound': 0.5411}\n",
      "sentence was rated as  0.0 % Negative\n",
      "sentence was rated as  66.7 % Neutral\n",
      "sentence was rated as  33.300000000000004 % Positive\n",
      "Sentence Overall Rated As Positive\n",
      "The sentence is recommended to be posted\n"
     ]
    },
    {
     "data": {
      "text/plain": [
       "{'neg_rating': '0',\n",
       " 'neu_rating': '66.7',\n",
       " 'pos_rating': '33.3',\n",
       " 'comp_rating': '54.1',\n",
       " 'res': 'Positive',\n",
       " 'verd': 'The sentence is recommended to be posted'}"
      ]
     },
     "execution_count": 34,
     "metadata": {},
     "output_type": "execute_result"
    }
   ],
   "source": [
    "sentiment_scores(\"if you want to have a good day, try our product!\") "
   ]
  },
  {
   "cell_type": "code",
   "execution_count": null,
   "metadata": {},
   "outputs": [],
   "source": []
  },
  {
   "cell_type": "code",
   "execution_count": null,
   "metadata": {},
   "outputs": [],
   "source": []
  },
  {
   "cell_type": "code",
   "execution_count": 3,
   "metadata": {},
   "outputs": [],
   "source": [
    "from tkinter import *\n",
    "from tkinter import messagebox\n",
    "import json \n",
    "from tkinter.filedialog import askopenfilename"
   ]
  },
  {
   "cell_type": "code",
   "execution_count": 4,
   "metadata": {},
   "outputs": [],
   "source": [
    "file = open('credentials.json')\n",
    "creds = json.load(file)\n",
    "file.close()"
   ]
  },
  {
   "cell_type": "code",
   "execution_count": 31,
   "metadata": {},
   "outputs": [],
   "source": [
    "window=Tk()\n",
    "window.title(\"Sentiment Analyser Twitter Tool\")\n",
    "window.resizable(False,False)\n",
    "\n",
    "content=StringVar()\n",
    "# entry=Entry(window, textvariable=content)\n",
    "# entry.grid(row=0, column=0, rowspan=2)\n",
    "\n",
    "label=Label(window, text=\"Enter text here:\", height=2,font=(\"Arial Bold\", 27))\n",
    "label.grid(row=0, column=0, columnspan=2)\n",
    "#text area\n",
    "text=Text(window, borderwidth = 3, relief=RAISED, wrap=WORD)\n",
    "text.grid(row=1, column=0, columnspan=2, rowspan=15, padx=20)\n",
    "\n",
    "#analyse button\n",
    "b1=Button(window, text=\"Analyse\", command=analyse)\n",
    "b1.grid(row=20, column=0, padx=20, pady=10)\n",
    "\n",
    "#posting on twitter button\n",
    "b2=Button(window, text=\"Post on Twitter\", command=post)\n",
    "b2.grid(row=20, column=1)\n",
    "\n",
    "#add media button\n",
    "add_media=Button(window, text=\"Add media\", command=fetch_media)\n",
    "add_media.grid(row=20, column=4)\n",
    "\n",
    "#remove media button\n",
    "rm_media=Button(window, text=\"Remove media\", command=remove_media)\n",
    "rm_media.grid(row=20, column=5)\n",
    "\n",
    "label=Label(window, text=\"Analysis results:\", height=2,font=(\"Arial Bold\", 27))\n",
    "label.grid(row=0, column=3, columnspan=3)\n",
    "#positive colour and score labels\n",
    "pos_val=StringVar()\n",
    "label=Label(window, height=1, width=2, relief=RAISED,bg='green')\n",
    "label.grid(row=2, column=3, padx=15)\n",
    "label=Label(window, text=\"Positive:\", height=1)\n",
    "label.grid(row=2, column=4)\n",
    "pos_label=Label(window, textvariable=pos_val, height=1, width=5, relief=RAISED)\n",
    "# pos_text=Text(window, height=1, width=10, wrap=\"word\",relief=RAISED)\n",
    "# pos_text.grid(row=0, column=4)\n",
    "pos_label.grid(row=2, column=5)\n",
    "\n",
    "#neutral colour and score labels\n",
    "neu_val=StringVar()\n",
    "label=Label(window, height=1, width=2, relief=RAISED,bg='blue')\n",
    "label.grid(row=3, column=3)\n",
    "label=Label(window, text=\"Neutral:\", height=1)\n",
    "label.grid(row=3, column=4)\n",
    "neu_label=Label(window, textvariable=neu_val, height=1, width=5, relief=RAISED)\n",
    "# neu_text=Text(window, height=1, width=10, wrap=\"word\")\n",
    "# neu_text.grid(row=5, column=4)\n",
    "neu_label.grid(row=3, column=5)\n",
    "\n",
    "#negative colour and score labels\n",
    "neg_val=StringVar()\n",
    "label=Label(window, height=1, width=2, relief=RAISED,bg='red')\n",
    "label.grid(row=4, column=3)\n",
    "label=Label(window, text=\"Negative:\", height=1)\n",
    "label.grid(row=4, column=4)\n",
    "neg_label=Label(window, textvariable=neg_val, height=1, width=5, relief=RAISED)\n",
    "# neg_text=Text(window, height=1, width=10, wrap=\"word\")\n",
    "# neg_text.grid(row=10, column=4)\n",
    "neg_label.grid(row=4, column=5)\n",
    "\n",
    "#compound score label\n",
    "col=StringVar()\n",
    "if col.get()==None or col.get()==\"\":\n",
    "    col.set(\"#ffffff\")\n",
    "comp_val=StringVar()\n",
    "# col_label1=Label(window, height=1, width=2, relief=RAISED,bg=col.get())\n",
    "# col_label1.grid(row=3, column=3)\n",
    "label=Label(window, text=\"Compound:\", height=1)\n",
    "label.grid(row=5, column=4)\n",
    "comp_label=Label(window, textvariable=comp_val, height=1, width=5, relief=RAISED)\n",
    "# neg_text=Text(window, height=1, width=10, wrap=\"word\")\n",
    "# neg_text.grid(row=10, column=4)\n",
    "comp_label.grid(row=5, column=5)\n",
    "\n",
    "#Sentiment visualisation colour\n",
    "label=Label(window, text=\"Sentiment\\nvisualisation:\", height=2)\n",
    "label.grid(row=7, column=4)\n",
    "# print(col.get())\n",
    "col_label=Label(window, height=2, width=5, relief=RAISED,bg=col.get())\n",
    "col_label.grid(row=7, column=5)\n",
    "\n",
    "#result label\n",
    "res_val=StringVar()\n",
    "res_label=Label(window, textvariable=res_val, height=2, width=35)\n",
    "res_label.grid(row=9, column=4, columnspan=2)\n",
    "\n",
    "#limit slider\n",
    "limit=DoubleVar()\n",
    "limit.set(0)\n",
    "label=Label(window, text=\"Set sentiment\\nscore limit:\", height=2)\n",
    "label.grid(row=11, column=4,)\n",
    "lim_scale=Scale(window, variable = limit, from_ = -100, to = 100, orient = HORIZONTAL, sliderlength=10)\n",
    "lim_scale.grid(row=11, column=5)\n",
    "\n",
    "#verdict label\n",
    "verd_val=StringVar()\n",
    "verd_label=Label(window, textvariable=verd_val, height=2, width=40)\n",
    "verd_label.grid(row=13, column=4, columnspan=2)\n",
    "\n",
    "\n",
    "hasMedia = StringVar()\n",
    "hasMedia.set(\"False\")\n",
    "media_path=StringVar()\n",
    "media_path.set(\"\")\n",
    "#media path label\n",
    "media_val=StringVar()\n",
    "media_label=Label(window, textvariable=media_val, height=2, width=40, wraplength = 300)\n",
    "media_label.grid(row=14, column=4, columnspan=2)\n",
    "\n",
    "window.mainloop()"
   ]
  },
  {
   "cell_type": "code",
   "execution_count": 5,
   "metadata": {},
   "outputs": [],
   "source": [
    "def remove_media():\n",
    "    media_val.set(\"\")\n",
    "    hasMedia.set(\"False\")\n",
    "    media_path.set(\"\")"
   ]
  },
  {
   "cell_type": "code",
   "execution_count": 30,
   "metadata": {},
   "outputs": [],
   "source": [
    "def fetch_media():\n",
    "    formats=['jpg','jpeg','png','gif','webp']\n",
    "    media_path.set(askopenfilename(filetypes=[(\"Image files\",\"*.jpg\"),(\"Image files\",\"*.gif\"),(\"Image files\",\"*.jpeg\"),(\"Image files\",\"*.png\")]))\n",
    "    filename=media_path.get().split('/')[-1]\n",
    "    if not filename.isspace() and len(filename) != 0:\n",
    "        if filename.split(\".\")[-1].lower() in formats:\n",
    "            media_val.set(\"Media: \"+filename)\n",
    "            hasMedia.set(\"True\")\n",
    "        else:\n",
    "            messagebox.showwarning(\"Warning\", \"Unsupported media format! Must be JPG, PNG, GIF or WEBP\", parent=window)\n",
    "            media_path.set(\"\")\n",
    "            media_val.set(\"\")\n",
    "            hasMedia.set(\"False\")\n",
    "    else:\n",
    "        media_path.set(\"\")\n",
    "        media_val.set(\"\")\n",
    "        hasMedia.set(\"False\")"
   ]
  },
  {
   "cell_type": "code",
   "execution_count": 7,
   "metadata": {},
   "outputs": [],
   "source": [
    "def analyse():\n",
    "#     pos_text.configure(state=\"normal\")\n",
    "#     pos_text.delete(1.0, END)\n",
    "    \n",
    "#     neg_text.configure(state=\"normal\"\n",
    "#     neg_text.delete(1.0, END)\n",
    "    \n",
    "#     neu_text.configure(state=\"normal\")\n",
    "#     neu_text.delete(1.0, END)\n",
    "    \n",
    "    sentence=text.get(\"1.0\",END)\n",
    "    res=(sentiment_scores(sentence))\n",
    "    print(res)\n",
    "    \n",
    "    if not sentence.isspace() and len(sentence) != 0:\n",
    "    \n",
    "        pos_val.set(res['pos_rating']+\"%\")\n",
    "\n",
    "        neu_val.set(res['neu_rating']+\"%\")\n",
    "\n",
    "        neg_val.set(res['neg_rating']+\"%\")\n",
    "\n",
    "        comp_val.set(res['comp_rating']+\"%\")\n",
    "\n",
    "        res_val.set(\"The text was overall rated as \"+res['res']+\".\")\n",
    "        \n",
    "        verd_val.set(res['verd'])\n",
    "\n",
    "        hexcode= '#%02x%02x%02x' % (int(float(res['neg_rating'])/100*255),int(float(res['pos_rating'])/100*255),int(float(res['neu_rating'])/100*255))\n",
    "    #     hexcode=\"#\"+str(hex(255-int(int(res['neg_rating'])/100*255)).split('x')[-1])+str(hex(255-int(int(res['pos_rating'])/100*255)).split('x')[-1])+\"ff\"\n",
    "    #     col.set(hexcode)\n",
    "    #     print(col.get())\n",
    "        if hexcode == \"#000000\":\n",
    "            hexcode = \"#ffffff\"\n",
    "        col_label.configure(bg=hexcode)\n",
    "        print(hexcode)\n",
    "    \n",
    "    else:\n",
    "        pos_val.set(\"\")\n",
    "\n",
    "        neu_val.set(\"\")\n",
    "\n",
    "        neg_val.set(\"\")\n",
    "\n",
    "        comp_val.set(\"\")\n",
    "\n",
    "        res_val.set(\"\")\n",
    "        \n",
    "        verd_val.set(\"\")\n",
    "        \n",
    "        col_label.configure(bg='#ffffff')\n",
    "    \n",
    "#     pos_text.insert(END, res['pos_rating'])\n",
    "#     pos_text.configure(state=\"disabled\")\n",
    "    \n",
    "#     neg_text.insert(END, res['neg_rating'])\n",
    "#     neg_text.configure(state=\"disabled\")\n",
    "    \n",
    "#     neu_text.insert(END, res['neu_rating'])\n",
    "#     neu_text.configure(state=\"disabled\")"
   ]
  },
  {
   "cell_type": "code",
   "execution_count": 8,
   "metadata": {},
   "outputs": [],
   "source": [
    "def post():\n",
    "    sentence=text.get(\"1.0\",END)\n",
    "    if len(sentence) > 280:\n",
    "        messagebox.showwarning(\"Warning\", \"Text must be up to 280 characters to post on Twitter!\", parent=window)\n",
    "    elif sentence.isspace() or len(sentence) == 0:\n",
    "        messagebox.showwarning(\"Warning\", \"No message to post!\", parent=window)\n",
    "    else:\n",
    "        choice=messagebox.askquestion(\"Asking confirmation\", \"Are you sure you want to post this on Twitter?\", parent=window)\n",
    "        if choice == \"yes\":\n",
    "            try:\n",
    "                print(\"length of message=\", sentence)\n",
    "                consumer_key = creds[\"consumer_key\"]\n",
    "                consumer_secret =creds[\"consumer_secret\"]\n",
    "                access_token =creds[\"access_token\"]\n",
    "                access_token_secret =creds[\"access_token_secret\"]\n",
    "                # authentication of consumer key and secret \n",
    "                auth = tweepy.OAuthHandler(consumer_key, consumer_secret) \n",
    "                # Authentication of access token and secret \n",
    "                auth.set_access_token(access_token, access_token_secret) \n",
    "                api = tweepy.API(auth)\n",
    "                print(hasMedia.get())\n",
    "                if hasMedia.get()==\"True\":\n",
    "                    print('with media\\n')\n",
    "                    print(media_path)\n",
    "                    api.update_with_media(media_path.get(), sentence)\n",
    "        #                 api.update_status(status = sentence) \n",
    "\n",
    "                else:\n",
    "                    api.update_status(status=sentence)\n",
    "\n",
    "                text.delete(1.0, END)\n",
    "                pos_val.set(\"\")\n",
    "                neu_val.set(\"\")\n",
    "                neg_val.set(\"\")\n",
    "                comp_val.set(\"\")\n",
    "                res_val.set(\"\")\n",
    "                col_label.configure(bg=\"#ffffff\")\n",
    "                verd_val.set(\"\")\n",
    "                media_val.set(\"\")\n",
    "                hasMedia.set(\"False\")\n",
    "                media_path.set(\"\")\n",
    "\n",
    "            except:\n",
    "                messagebox.showerror(\"showerror\", \"Something went wrong!\", parent=window)\n",
    "            else:\n",
    "                messagebox.showinfo(\"Info\", \"Successfully posted on Twitter!\", parent=window)"
   ]
  },
  {
   "cell_type": "code",
   "execution_count": null,
   "metadata": {},
   "outputs": [],
   "source": []
  },
  {
   "cell_type": "code",
   "execution_count": 11,
   "metadata": {},
   "outputs": [
    {
     "name": "stdout",
     "output_type": "stream",
     "text": [
      "Collecting tweepy\n",
      "  Downloading tweepy-3.9.0-py2.py3-none-any.whl (30 kB)\n",
      "Requirement already satisfied: requests[socks]>=2.11.1 in ./venv/lib/python3.7/site-packages (from tweepy) (2.25.0)\n",
      "Requirement already satisfied: six>=1.10.0 in ./venv/lib/python3.7/site-packages (from tweepy) (1.15.0)\n",
      "Collecting requests-oauthlib>=0.7.0\n",
      "  Using cached requests_oauthlib-1.3.0-py2.py3-none-any.whl (23 kB)\n",
      "Requirement already satisfied: urllib3<1.27,>=1.21.1 in ./venv/lib/python3.7/site-packages (from requests[socks]>=2.11.1->tweepy) (1.26.2)\n",
      "Requirement already satisfied: chardet<4,>=3.0.2 in ./venv/lib/python3.7/site-packages (from requests[socks]>=2.11.1->tweepy) (3.0.4)\n",
      "Requirement already satisfied: idna<3,>=2.5 in ./venv/lib/python3.7/site-packages (from requests[socks]>=2.11.1->tweepy) (2.10)\n",
      "Requirement already satisfied: certifi>=2017.4.17 in ./venv/lib/python3.7/site-packages (from requests[socks]>=2.11.1->tweepy) (2020.11.8)\n",
      "Collecting PySocks!=1.5.7,>=1.5.6; extra == \"socks\"\n",
      "  Downloading PySocks-1.7.1-py3-none-any.whl (16 kB)\n",
      "Collecting oauthlib>=3.0.0\n",
      "  Using cached oauthlib-3.1.0-py2.py3-none-any.whl (147 kB)\n",
      "Installing collected packages: oauthlib, requests-oauthlib, tweepy, PySocks\n",
      "Successfully installed PySocks-1.7.1 oauthlib-3.1.0 requests-oauthlib-1.3.0 tweepy-3.9.0\n",
      "\u001b[33mWARNING: You are using pip version 20.2.2; however, version 20.3 is available.\n",
      "You should consider upgrading via the '/Users/ritwikghosh/Desktop/codes/Python/Sentiment-Analysis-Of-Movie-Review/venv/bin/python -m pip install --upgrade pip' command.\u001b[0m\n"
     ]
    }
   ],
   "source": [
    "!pip install tweepy"
   ]
  },
  {
   "cell_type": "code",
   "execution_count": 9,
   "metadata": {},
   "outputs": [],
   "source": [
    "import tweepy"
   ]
  },
  {
   "cell_type": "code",
   "execution_count": 2,
   "metadata": {},
   "outputs": [
    {
     "data": {
      "text/plain": [
       "Status(_api=<tweepy.api.API object at 0x1092d0910>, _json={'created_at': 'Thu Dec 10 11:00:07 +0000 2020', 'id': 1336989062956138496, 'id_str': '1336989062956138496', 'text': 'Tweet using python. Hello world!', 'truncated': False, 'entities': {'hashtags': [], 'symbols': [], 'user_mentions': [], 'urls': []}, 'source': '', 'in_reply_to_status_id': None, 'in_reply_to_status_id_str': None, 'in_reply_to_user_id': None, 'in_reply_to_user_id_str': None, 'in_reply_to_screen_name': None, 'user': {'id': 860092505525673984, 'id_str': '860092505525673984', 'name': 'Ritwik Ghosh', 'screen_name': 'ritwikghosh1010', 'location': '', 'description': '', 'url': None, 'entities': {'description': {'urls': []}}, 'protected': False, 'followers_count': 3, 'friends_count': 2, 'listed_count': 0, 'created_at': 'Thu May 04 11:23:27 +0000 2017', 'favourites_count': 9, 'utc_offset': None, 'time_zone': None, 'geo_enabled': False, 'verified': False, 'statuses_count': 12, 'lang': None, 'contributors_enabled': False, 'is_translator': False, 'is_translation_enabled': False, 'profile_background_color': 'F5F8FA', 'profile_background_image_url': None, 'profile_background_image_url_https': None, 'profile_background_tile': False, 'profile_image_url': 'http://abs.twimg.com/sticky/default_profile_images/default_profile_normal.png', 'profile_image_url_https': 'https://abs.twimg.com/sticky/default_profile_images/default_profile_normal.png', 'profile_link_color': '1DA1F2', 'profile_sidebar_border_color': 'C0DEED', 'profile_sidebar_fill_color': 'DDEEF6', 'profile_text_color': '333333', 'profile_use_background_image': True, 'has_extended_profile': False, 'default_profile': True, 'default_profile_image': True, 'following': False, 'follow_request_sent': False, 'notifications': False, 'translator_type': 'none'}, 'geo': None, 'coordinates': None, 'place': None, 'contributors': None, 'is_quote_status': False, 'retweet_count': 0, 'favorite_count': 0, 'favorited': False, 'retweeted': False, 'lang': 'en'}, created_at=datetime.datetime(2020, 12, 10, 11, 0, 7), id=1336989062956138496, id_str='1336989062956138496', text='Tweet using python. Hello world!', truncated=False, entities={'hashtags': [], 'symbols': [], 'user_mentions': [], 'urls': []}, source='', source_url=None, in_reply_to_status_id=None, in_reply_to_status_id_str=None, in_reply_to_user_id=None, in_reply_to_user_id_str=None, in_reply_to_screen_name=None, author=User(_api=<tweepy.api.API object at 0x1092d0910>, _json={'id': 860092505525673984, 'id_str': '860092505525673984', 'name': 'Ritwik Ghosh', 'screen_name': 'ritwikghosh1010', 'location': '', 'description': '', 'url': None, 'entities': {'description': {'urls': []}}, 'protected': False, 'followers_count': 3, 'friends_count': 2, 'listed_count': 0, 'created_at': 'Thu May 04 11:23:27 +0000 2017', 'favourites_count': 9, 'utc_offset': None, 'time_zone': None, 'geo_enabled': False, 'verified': False, 'statuses_count': 12, 'lang': None, 'contributors_enabled': False, 'is_translator': False, 'is_translation_enabled': False, 'profile_background_color': 'F5F8FA', 'profile_background_image_url': None, 'profile_background_image_url_https': None, 'profile_background_tile': False, 'profile_image_url': 'http://abs.twimg.com/sticky/default_profile_images/default_profile_normal.png', 'profile_image_url_https': 'https://abs.twimg.com/sticky/default_profile_images/default_profile_normal.png', 'profile_link_color': '1DA1F2', 'profile_sidebar_border_color': 'C0DEED', 'profile_sidebar_fill_color': 'DDEEF6', 'profile_text_color': '333333', 'profile_use_background_image': True, 'has_extended_profile': False, 'default_profile': True, 'default_profile_image': True, 'following': False, 'follow_request_sent': False, 'notifications': False, 'translator_type': 'none'}, id=860092505525673984, id_str='860092505525673984', name='Ritwik Ghosh', screen_name='ritwikghosh1010', location='', description='', url=None, entities={'description': {'urls': []}}, protected=False, followers_count=3, friends_count=2, listed_count=0, created_at=datetime.datetime(2017, 5, 4, 11, 23, 27), favourites_count=9, utc_offset=None, time_zone=None, geo_enabled=False, verified=False, statuses_count=12, lang=None, contributors_enabled=False, is_translator=False, is_translation_enabled=False, profile_background_color='F5F8FA', profile_background_image_url=None, profile_background_image_url_https=None, profile_background_tile=False, profile_image_url='http://abs.twimg.com/sticky/default_profile_images/default_profile_normal.png', profile_image_url_https='https://abs.twimg.com/sticky/default_profile_images/default_profile_normal.png', profile_link_color='1DA1F2', profile_sidebar_border_color='C0DEED', profile_sidebar_fill_color='DDEEF6', profile_text_color='333333', profile_use_background_image=True, has_extended_profile=False, default_profile=True, default_profile_image=True, following=False, follow_request_sent=False, notifications=False, translator_type='none'), user=User(_api=<tweepy.api.API object at 0x1092d0910>, _json={'id': 860092505525673984, 'id_str': '860092505525673984', 'name': 'Ritwik Ghosh', 'screen_name': 'ritwikghosh1010', 'location': '', 'description': '', 'url': None, 'entities': {'description': {'urls': []}}, 'protected': False, 'followers_count': 3, 'friends_count': 2, 'listed_count': 0, 'created_at': 'Thu May 04 11:23:27 +0000 2017', 'favourites_count': 9, 'utc_offset': None, 'time_zone': None, 'geo_enabled': False, 'verified': False, 'statuses_count': 12, 'lang': None, 'contributors_enabled': False, 'is_translator': False, 'is_translation_enabled': False, 'profile_background_color': 'F5F8FA', 'profile_background_image_url': None, 'profile_background_image_url_https': None, 'profile_background_tile': False, 'profile_image_url': 'http://abs.twimg.com/sticky/default_profile_images/default_profile_normal.png', 'profile_image_url_https': 'https://abs.twimg.com/sticky/default_profile_images/default_profile_normal.png', 'profile_link_color': '1DA1F2', 'profile_sidebar_border_color': 'C0DEED', 'profile_sidebar_fill_color': 'DDEEF6', 'profile_text_color': '333333', 'profile_use_background_image': True, 'has_extended_profile': False, 'default_profile': True, 'default_profile_image': True, 'following': False, 'follow_request_sent': False, 'notifications': False, 'translator_type': 'none'}, id=860092505525673984, id_str='860092505525673984', name='Ritwik Ghosh', screen_name='ritwikghosh1010', location='', description='', url=None, entities={'description': {'urls': []}}, protected=False, followers_count=3, friends_count=2, listed_count=0, created_at=datetime.datetime(2017, 5, 4, 11, 23, 27), favourites_count=9, utc_offset=None, time_zone=None, geo_enabled=False, verified=False, statuses_count=12, lang=None, contributors_enabled=False, is_translator=False, is_translation_enabled=False, profile_background_color='F5F8FA', profile_background_image_url=None, profile_background_image_url_https=None, profile_background_tile=False, profile_image_url='http://abs.twimg.com/sticky/default_profile_images/default_profile_normal.png', profile_image_url_https='https://abs.twimg.com/sticky/default_profile_images/default_profile_normal.png', profile_link_color='1DA1F2', profile_sidebar_border_color='C0DEED', profile_sidebar_fill_color='DDEEF6', profile_text_color='333333', profile_use_background_image=True, has_extended_profile=False, default_profile=True, default_profile_image=True, following=False, follow_request_sent=False, notifications=False, translator_type='none'), geo=None, coordinates=None, place=None, contributors=None, is_quote_status=False, retweet_count=0, favorite_count=0, favorited=False, retweeted=False, lang='en')"
      ]
     },
     "execution_count": 2,
     "metadata": {},
     "output_type": "execute_result"
    }
   ],
   "source": [
    "import tweepy\n",
    "# personal details \n",
    "my_consumer_key =\"UUuvP0B5Cofa4tbDLSnIiARL5\"\n",
    "my_consumer_secret =\"mETZ4ZIOAUjyWiV0T7MPUQyLcOB01e5Q4qyX9fNdaNAmPRLR3o\"\n",
    "my_access_token =\"860092505525673984-qkLiWt6uEZB0lSr9IBe9gNBtL0UNfwU\"\n",
    "my_access_token_secret =\"pVcatZMDUBSkDQJQYsxO1sevD6ywzDk3w115brVPwmIcP\"\n",
    "# authentication of consumer key and secret \n",
    "my_auth = tweepy.OAuthHandler(my_consumer_key, my_consumer_secret) \n",
    "# Authentication of access token and secret \n",
    "my_auth.set_access_token(my_access_token, my_access_token_secret) \n",
    "my_api = tweepy.API(my_auth)\n",
    "my_api.update_status(status=\" Tweet using python. Hello world!\")"
   ]
  },
  {
   "cell_type": "code",
   "execution_count": 32,
   "metadata": {},
   "outputs": [
    {
     "data": {
      "text/plain": [
       "280"
      ]
     },
     "execution_count": 32,
     "metadata": {},
     "output_type": "execute_result"
    }
   ],
   "source": [
    "len(\"ectetur libero. Consectetur adipiscing elit pellentesque habitant morbi. Est lorem ipsum dolor sit. Tincidunt eget nullam non nisi est sit amet facilisis. Ornare aenean la facilisi etiam dignissim. Eu mi bibendum lorem dolor sed viverra ipsum nunc aliquet bibendum. Sit amet volut\")"
   ]
  },
  {
   "cell_type": "code",
   "execution_count": 70,
   "metadata": {},
   "outputs": [
    {
     "name": "stdout",
     "output_type": "stream",
     "text": [
      "#197ee4\n"
     ]
    }
   ],
   "source": [
    "hexcode='#%02x%02x%02x' % (int(255-90/100*255),int(255-50.3/100*255),int(255-10.3/100*255))\n",
    "print(hexcode)"
   ]
  },
  {
   "cell_type": "code",
   "execution_count": 34,
   "metadata": {},
   "outputs": [
    {
     "ename": "AttributeError",
     "evalue": "module 'ctypes' has no attribute 'windll'",
     "output_type": "error",
     "traceback": [
      "\u001b[0;31m---------------------------------------------------------------------------\u001b[0m",
      "\u001b[0;31mAttributeError\u001b[0m                            Traceback (most recent call last)",
      "\u001b[0;32m<ipython-input-34-79efdc8052d8>\u001b[0m in \u001b[0;36m<module>\u001b[0;34m\u001b[0m\n\u001b[1;32m      2\u001b[0m \u001b[0;32mdef\u001b[0m \u001b[0mMbox\u001b[0m\u001b[0;34m(\u001b[0m\u001b[0mtitle\u001b[0m\u001b[0;34m,\u001b[0m \u001b[0mtext\u001b[0m\u001b[0;34m,\u001b[0m \u001b[0mstyle\u001b[0m\u001b[0;34m)\u001b[0m\u001b[0;34m:\u001b[0m\u001b[0;34m\u001b[0m\u001b[0;34m\u001b[0m\u001b[0m\n\u001b[1;32m      3\u001b[0m     \u001b[0;32mreturn\u001b[0m \u001b[0mctypes\u001b[0m\u001b[0;34m.\u001b[0m\u001b[0mwindll\u001b[0m\u001b[0;34m.\u001b[0m\u001b[0muser32\u001b[0m\u001b[0;34m.\u001b[0m\u001b[0mMessageBoxW\u001b[0m\u001b[0;34m(\u001b[0m\u001b[0;36m0\u001b[0m\u001b[0;34m,\u001b[0m \u001b[0mtext\u001b[0m\u001b[0;34m,\u001b[0m \u001b[0mtitle\u001b[0m\u001b[0;34m,\u001b[0m \u001b[0mstyle\u001b[0m\u001b[0;34m)\u001b[0m\u001b[0;34m\u001b[0m\u001b[0;34m\u001b[0m\u001b[0m\n\u001b[0;32m----> 4\u001b[0;31m \u001b[0mMbox\u001b[0m\u001b[0;34m(\u001b[0m\u001b[0;34m'Your title'\u001b[0m\u001b[0;34m,\u001b[0m \u001b[0;34m'Your text'\u001b[0m\u001b[0;34m,\u001b[0m \u001b[0;36m1\u001b[0m\u001b[0;34m)\u001b[0m\u001b[0;34m\u001b[0m\u001b[0;34m\u001b[0m\u001b[0m\n\u001b[0m",
      "\u001b[0;32m<ipython-input-34-79efdc8052d8>\u001b[0m in \u001b[0;36mMbox\u001b[0;34m(title, text, style)\u001b[0m\n\u001b[1;32m      1\u001b[0m \u001b[0;32mimport\u001b[0m \u001b[0mctypes\u001b[0m  \u001b[0;31m# An included library with Python install.\u001b[0m\u001b[0;34m\u001b[0m\u001b[0;34m\u001b[0m\u001b[0m\n\u001b[1;32m      2\u001b[0m \u001b[0;32mdef\u001b[0m \u001b[0mMbox\u001b[0m\u001b[0;34m(\u001b[0m\u001b[0mtitle\u001b[0m\u001b[0;34m,\u001b[0m \u001b[0mtext\u001b[0m\u001b[0;34m,\u001b[0m \u001b[0mstyle\u001b[0m\u001b[0;34m)\u001b[0m\u001b[0;34m:\u001b[0m\u001b[0;34m\u001b[0m\u001b[0;34m\u001b[0m\u001b[0m\n\u001b[0;32m----> 3\u001b[0;31m     \u001b[0;32mreturn\u001b[0m \u001b[0mctypes\u001b[0m\u001b[0;34m.\u001b[0m\u001b[0mwindll\u001b[0m\u001b[0;34m.\u001b[0m\u001b[0muser32\u001b[0m\u001b[0;34m.\u001b[0m\u001b[0mMessageBoxW\u001b[0m\u001b[0;34m(\u001b[0m\u001b[0;36m0\u001b[0m\u001b[0;34m,\u001b[0m \u001b[0mtext\u001b[0m\u001b[0;34m,\u001b[0m \u001b[0mtitle\u001b[0m\u001b[0;34m,\u001b[0m \u001b[0mstyle\u001b[0m\u001b[0;34m)\u001b[0m\u001b[0;34m\u001b[0m\u001b[0;34m\u001b[0m\u001b[0m\n\u001b[0m\u001b[1;32m      4\u001b[0m \u001b[0mMbox\u001b[0m\u001b[0;34m(\u001b[0m\u001b[0;34m'Your title'\u001b[0m\u001b[0;34m,\u001b[0m \u001b[0;34m'Your text'\u001b[0m\u001b[0;34m,\u001b[0m \u001b[0;36m1\u001b[0m\u001b[0;34m)\u001b[0m\u001b[0;34m\u001b[0m\u001b[0;34m\u001b[0m\u001b[0m\n",
      "\u001b[0;31mAttributeError\u001b[0m: module 'ctypes' has no attribute 'windll'"
     ]
    }
   ],
   "source": [
    "import ctypes  # An included library with Python install.\n",
    "def Mbox(title, text, style):\n",
    "    return ctypes.windll.user32.MessageBoxW(0, text, title, style)\n",
    "Mbox('Your title', 'Your text', 1)"
   ]
  },
  {
   "cell_type": "code",
   "execution_count": null,
   "metadata": {},
   "outputs": [],
   "source": []
  }
 ],
 "metadata": {
  "colab": {
   "collapsed_sections": [],
   "name": "Untitled",
   "provenance": []
  },
  "kernelspec": {
   "display_name": "venv",
   "language": "python",
   "name": "venv"
  },
  "language_info": {
   "codemirror_mode": {
    "name": "ipython",
    "version": 3
   },
   "file_extension": ".py",
   "mimetype": "text/x-python",
   "name": "python",
   "nbconvert_exporter": "python",
   "pygments_lexer": "ipython3",
   "version": "3.7.6"
  }
 },
 "nbformat": 4,
 "nbformat_minor": 1
}
